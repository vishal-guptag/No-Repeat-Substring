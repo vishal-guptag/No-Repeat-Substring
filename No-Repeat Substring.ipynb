{
 "cells": [
  {
   "cell_type": "code",
   "execution_count": 1,
   "metadata": {},
   "outputs": [
    {
     "name": "stdout",
     "output_type": "stream",
     "text": [
      "length of the longest substring: 3\n"
     ]
    }
   ],
   "source": [
    "def non_repeat_substring(str):\n",
    "    window_start=0\n",
    "    max_length=0\n",
    "    char_index_map={}\n",
    "    \n",
    "    #try to extend the range [windowstart,windowend]\n",
    "    for window_end in range(len(str)):\n",
    "        right_char=str[window_end]\n",
    "        #if the map already contains the 'right_char'\n",
    "        #,shrink the window from the beginning so that\n",
    "        #we have only one occurrence of 'right_char'\n",
    "        if right_char in char_index_map:\n",
    "            #this is tricky,in the current window,we will\n",
    "            #not have any 'right_char' after its previous \n",
    "            #index and if 'window_start' is already ahead of \n",
    "            #the last index of 'right_char',we will keep\n",
    "            #'window_start'\n",
    "            window_start=max(window_start,char_index_map[right_char]+1)\n",
    "        #insert the 'right_char' into the map\n",
    "        char_index_map[right_char]=window_end\n",
    "        #remember the maximum length so far\n",
    "        max_length=max(max_length,window_end-window_start+1)\n",
    "    return max_length\n",
    "print(\"length of the longest substring: \"+str(non_repeat_substring(\"aabccbb\")))\n",
    "        "
   ]
  },
  {
   "cell_type": "code",
   "execution_count": null,
   "metadata": {},
   "outputs": [],
   "source": []
  }
 ],
 "metadata": {
  "kernelspec": {
   "display_name": "Python 3",
   "language": "python",
   "name": "python3"
  },
  "language_info": {
   "codemirror_mode": {
    "name": "ipython",
    "version": 3
   },
   "file_extension": ".py",
   "mimetype": "text/x-python",
   "name": "python",
   "nbconvert_exporter": "python",
   "pygments_lexer": "ipython3",
   "version": "3.7.1"
  }
 },
 "nbformat": 4,
 "nbformat_minor": 2
}
